{
 "cells": [
  {
   "cell_type": "raw",
   "id": "86efabf1",
   "metadata": {
    "_cell_guid": "b1076dfc-b9ad-4769-8c92-a6c4dae69d19",
    "_uuid": "8f2839f25d086af736a60e9eeb907d3b93b6e0e5",
    "papermill": {
     "duration": 0.004388,
     "end_time": "2024-10-12T08:14:55.963517",
     "exception": false,
     "start_time": "2024-10-12T08:14:55.959129",
     "status": "completed"
    },
    "tags": []
   },
   "source": [
    "# This Python 3 environment comes with many helpful analytics libraries installed\n",
    "# It is defined by the kaggle/python Docker image: https://github.com/kaggle/docker-python\n",
    "# For example, here's several helpful packages to load\n",
    "\n",
    "import numpy as np # linear algebra\n",
    "import pandas as pd # data processing, CSV file I/O (e.g. pd.read_csv)\n",
    "\n",
    "# Input data files are available in the read-only \"../input/\" directory\n",
    "# For example, running this (by clicking run or pressing Shift+Enter) will list all files under the input directory\n",
    "\n",
    "import os\n",
    "for dirname, _, filenames in os.walk('/kaggle/input'):\n",
    "    for filename in filenames:\n",
    "        print(os.path.join(dirname, filename))\n",
    "\n",
    "# You can write up to 20GB to the current directory (/kaggle/working/) that gets preserved as output when you create a version using \"Save & Run All\" \n",
    "# You can also write temporary files to /kaggle/temp/, but they won't be saved outside of the current session"
   ]
  },
  {
   "cell_type": "code",
   "execution_count": 1,
   "id": "748f5edb",
   "metadata": {
    "execution": {
     "iopub.execute_input": "2024-10-12T08:14:55.972721Z",
     "iopub.status.busy": "2024-10-12T08:14:55.972322Z",
     "iopub.status.idle": "2024-10-12T08:15:10.524291Z",
     "shell.execute_reply": "2024-10-12T08:15:10.522832Z"
    },
    "papermill": {
     "duration": 14.560312,
     "end_time": "2024-10-12T08:15:10.527701",
     "exception": false,
     "start_time": "2024-10-12T08:14:55.967389",
     "status": "completed"
    },
    "tags": []
   },
   "outputs": [
    {
     "name": "stdout",
     "output_type": "stream",
     "text": [
      "Requirement already satisfied: torch in /opt/conda/lib/python3.10/site-packages (2.4.0)\r\n",
      "Requirement already satisfied: transformers in /opt/conda/lib/python3.10/site-packages (4.45.1)\r\n",
      "Requirement already satisfied: filelock in /opt/conda/lib/python3.10/site-packages (from torch) (3.15.1)\r\n",
      "Requirement already satisfied: typing-extensions>=4.8.0 in /opt/conda/lib/python3.10/site-packages (from torch) (4.12.2)\r\n",
      "Requirement already satisfied: sympy in /opt/conda/lib/python3.10/site-packages (from torch) (1.13.3)\r\n",
      "Requirement already satisfied: networkx in /opt/conda/lib/python3.10/site-packages (from torch) (3.3)\r\n",
      "Requirement already satisfied: jinja2 in /opt/conda/lib/python3.10/site-packages (from torch) (3.1.4)\r\n",
      "Requirement already satisfied: fsspec in /opt/conda/lib/python3.10/site-packages (from torch) (2024.6.1)\r\n"
     ]
    },
    {
     "name": "stdout",
     "output_type": "stream",
     "text": [
      "Requirement already satisfied: huggingface-hub<1.0,>=0.23.2 in /opt/conda/lib/python3.10/site-packages (from transformers) (0.25.1)\r\n",
      "Requirement already satisfied: numpy>=1.17 in /opt/conda/lib/python3.10/site-packages (from transformers) (1.26.4)\r\n",
      "Requirement already satisfied: packaging>=20.0 in /opt/conda/lib/python3.10/site-packages (from transformers) (21.3)\r\n",
      "Requirement already satisfied: pyyaml>=5.1 in /opt/conda/lib/python3.10/site-packages (from transformers) (6.0.2)\r\n",
      "Requirement already satisfied: regex!=2019.12.17 in /opt/conda/lib/python3.10/site-packages (from transformers) (2024.5.15)\r\n",
      "Requirement already satisfied: requests in /opt/conda/lib/python3.10/site-packages (from transformers) (2.32.3)\r\n",
      "Requirement already satisfied: safetensors>=0.4.1 in /opt/conda/lib/python3.10/site-packages (from transformers) (0.4.5)\r\n",
      "Requirement already satisfied: tokenizers<0.21,>=0.20 in /opt/conda/lib/python3.10/site-packages (from transformers) (0.20.0)\r\n"
     ]
    },
    {
     "name": "stdout",
     "output_type": "stream",
     "text": [
      "Requirement already satisfied: tqdm>=4.27 in /opt/conda/lib/python3.10/site-packages (from transformers) (4.66.4)\r\n"
     ]
    },
    {
     "name": "stdout",
     "output_type": "stream",
     "text": [
      "Requirement already satisfied: pyparsing!=3.0.5,>=2.0.2 in /opt/conda/lib/python3.10/site-packages (from packaging>=20.0->transformers) (3.1.2)\r\n"
     ]
    },
    {
     "name": "stdout",
     "output_type": "stream",
     "text": [
      "Requirement already satisfied: MarkupSafe>=2.0 in /opt/conda/lib/python3.10/site-packages (from jinja2->torch) (2.1.5)\r\n"
     ]
    },
    {
     "name": "stdout",
     "output_type": "stream",
     "text": [
      "Requirement already satisfied: charset-normalizer<4,>=2 in /opt/conda/lib/python3.10/site-packages (from requests->transformers) (3.3.2)\r\n",
      "Requirement already satisfied: idna<4,>=2.5 in /opt/conda/lib/python3.10/site-packages (from requests->transformers) (3.7)\r\n",
      "Requirement already satisfied: urllib3<3,>=1.21.1 in /opt/conda/lib/python3.10/site-packages (from requests->transformers) (1.26.18)\r\n",
      "Requirement already satisfied: certifi>=2017.4.17 in /opt/conda/lib/python3.10/site-packages (from requests->transformers) (2024.8.30)\r\n",
      "Requirement already satisfied: mpmath<1.4,>=1.1.0 in /opt/conda/lib/python3.10/site-packages (from sympy->torch) (1.3.0)\r\n"
     ]
    }
   ],
   "source": [
    "!pip install torch transformers"
   ]
  },
  {
   "cell_type": "code",
   "execution_count": 2,
   "id": "9fa3fb83",
   "metadata": {
    "execution": {
     "iopub.execute_input": "2024-10-12T08:15:10.540080Z",
     "iopub.status.busy": "2024-10-12T08:15:10.539613Z",
     "iopub.status.idle": "2024-10-12T08:15:11.345874Z",
     "shell.execute_reply": "2024-10-12T08:15:11.344757Z"
    },
    "papermill": {
     "duration": 0.815356,
     "end_time": "2024-10-12T08:15:11.348358",
     "exception": false,
     "start_time": "2024-10-12T08:15:10.533002",
     "status": "completed"
    },
    "tags": []
   },
   "outputs": [],
   "source": [
    "import pandas as pd"
   ]
  },
  {
   "cell_type": "code",
   "execution_count": 3,
   "id": "d2f00f1a",
   "metadata": {
    "execution": {
     "iopub.execute_input": "2024-10-12T08:15:11.359555Z",
     "iopub.status.busy": "2024-10-12T08:15:11.358627Z",
     "iopub.status.idle": "2024-10-12T08:15:17.110706Z",
     "shell.execute_reply": "2024-10-12T08:15:17.109879Z"
    },
    "papermill": {
     "duration": 5.76004,
     "end_time": "2024-10-12T08:15:17.113230",
     "exception": false,
     "start_time": "2024-10-12T08:15:11.353190",
     "status": "completed"
    },
    "tags": []
   },
   "outputs": [],
   "source": [
    "import torch\n",
    "from torch import nn\n",
    "from transformers import DistilBertTokenizer, DistilBertModel\n",
    "\n",
    "class TextLikesPredictionModel(nn.Module):\n",
    "    def __init__(self, pretrained_model_name='distilbert-base-uncased'):\n",
    "        super(TextLikesPredictionModel, self).__init__()\n",
    "        self.bert = DistilBertModel.from_pretrained(pretrained_model_name)\n",
    "        self.regression_head = nn.Sequential(\n",
    "            nn.Linear(self.bert.config.hidden_size, 180),\n",
    "            nn.ReLU(),\n",
    "            nn.Linear(180, 1)  # Regression output\n",
    "        )\n",
    "        \n",
    "    def forward(self, input_ids, attention_mask):\n",
    "        outputs = self.bert(input_ids=input_ids, attention_mask=attention_mask)\n",
    "        hidden_state = outputs.last_hidden_state[:, 0, :]  # CLS token embedding\n",
    "        logits = self.regression_head(hidden_state)\n",
    "        return logits\n"
   ]
  },
  {
   "cell_type": "code",
   "execution_count": 4,
   "id": "5eb8608d",
   "metadata": {
    "execution": {
     "iopub.execute_input": "2024-10-12T08:15:17.123928Z",
     "iopub.status.busy": "2024-10-12T08:15:17.123106Z",
     "iopub.status.idle": "2024-10-12T08:15:18.268106Z",
     "shell.execute_reply": "2024-10-12T08:15:18.266999Z"
    },
    "papermill": {
     "duration": 1.1529,
     "end_time": "2024-10-12T08:15:18.270587",
     "exception": false,
     "start_time": "2024-10-12T08:15:17.117687",
     "status": "completed"
    },
    "tags": []
   },
   "outputs": [
    {
     "data": {
      "application/vnd.jupyter.widget-view+json": {
       "model_id": "0bcfb1def3bc4deca8d20929d8f319a5",
       "version_major": 2,
       "version_minor": 0
      },
      "text/plain": [
       "tokenizer_config.json:   0%|          | 0.00/48.0 [00:00<?, ?B/s]"
      ]
     },
     "metadata": {},
     "output_type": "display_data"
    },
    {
     "data": {
      "application/vnd.jupyter.widget-view+json": {
       "model_id": "b1f372a6150c430f91505f31cb145369",
       "version_major": 2,
       "version_minor": 0
      },
      "text/plain": [
       "vocab.txt:   0%|          | 0.00/232k [00:00<?, ?B/s]"
      ]
     },
     "metadata": {},
     "output_type": "display_data"
    },
    {
     "data": {
      "application/vnd.jupyter.widget-view+json": {
       "model_id": "bf10dd3171ca4a2f985b341b736b6fab",
       "version_major": 2,
       "version_minor": 0
      },
      "text/plain": [
       "tokenizer.json:   0%|          | 0.00/466k [00:00<?, ?B/s]"
      ]
     },
     "metadata": {},
     "output_type": "display_data"
    },
    {
     "data": {
      "application/vnd.jupyter.widget-view+json": {
       "model_id": "e548d5171d8a4fbbbbd2230f55c33be8",
       "version_major": 2,
       "version_minor": 0
      },
      "text/plain": [
       "config.json:   0%|          | 0.00/483 [00:00<?, ?B/s]"
      ]
     },
     "metadata": {},
     "output_type": "display_data"
    }
   ],
   "source": [
    "from transformers import DistilBertTokenizer\n",
    "\n",
    "# Initialize the tokenizer\n",
    "tokenizer = DistilBertTokenizer.from_pretrained('distilbert-base-uncased')\n",
    "\n",
    "# Tokenize the text data\n",
    "def preprocess_text(texts, max_length=180):\n",
    "    encoding = tokenizer(texts, padding=True, truncation=True, max_length=max_length, return_tensors='pt')\n",
    "    return encoding['input_ids'], encoding['attention_mask']"
   ]
  },
  {
   "cell_type": "code",
   "execution_count": null,
   "id": "b9296153",
   "metadata": {
    "execution": {
     "iopub.execute_input": "2024-10-10T12:58:33.478287Z",
     "iopub.status.busy": "2024-10-10T12:58:33.477852Z",
     "iopub.status.idle": "2024-10-10T14:14:59.272276Z",
     "shell.execute_reply": "2024-10-10T14:14:59.270883Z",
     "shell.execute_reply.started": "2024-10-10T12:58:33.478246Z"
    },
    "papermill": {
     "duration": null,
     "end_time": null,
     "exception": false,
     "start_time": "2024-10-12T08:15:18.277110",
     "status": "running"
    },
    "tags": []
   },
   "outputs": [],
   "source": [
    "from torch.utils.data import Dataset, DataLoader\n",
    "\n",
    "class TextLikesDataset(Dataset):\n",
    "    def __init__(self, csv_file, tokenizer, max_length=128):\n",
    "        self.data = pd.read_csv(csv_file)\n",
    "        self.tokenizer = tokenizer\n",
    "        self.max_length = max_length\n",
    "    \n",
    "    def __len__(self):\n",
    "        return len(self.data)\n",
    "    \n",
    "    def __getitem__(self, idx):\n",
    "        text = self.data.iloc[idx]['formatted_text']\n",
    "        target = self.data.iloc[idx]['likes']\n",
    "        \n",
    "        encoding = self.tokenizer(text, padding='max_length', truncation=True, max_length=self.max_length, return_tensors='pt')\n",
    "        input_ids = encoding['input_ids'].squeeze()\n",
    "        attention_mask = encoding['attention_mask'].squeeze()\n",
    "        \n",
    "        return {\n",
    "            'input_ids': input_ids,\n",
    "            'attention_mask': attention_mask,\n",
    "            'target': torch.tensor(target, dtype=torch.float)\n",
    "        }\n",
    "\n",
    "# Example DataLoader\n",
    "train_dataset = TextLikesDataset(csv_file='/kaggle/input/corpus2/pre_proc_train.csv', tokenizer=tokenizer)\n",
    "train_loader = DataLoader(train_dataset, batch_size=16, shuffle=True)\n",
    "\n",
    "# Initialize model and optimizer\n",
    "model = TextLikesPredictionModel()\n",
    "optimizer = torch.optim.Adam(model.parameters(), lr=1e-5)\n",
    "criterion = nn.MSELoss()\n",
    "\n",
    "# Training loop\n",
    "for epoch in range(5):  # Number of epochs\n",
    "    model.train()\n",
    "    total_loss = 0\n",
    "    \n",
    "    for batch in train_loader:\n",
    "        input_ids = batch['input_ids']\n",
    "        attention_mask = batch['attention_mask']\n",
    "        targets = batch['target']\n",
    "        \n",
    "        optimizer.zero_grad()\n",
    "        outputs = model(input_ids, attention_mask)\n",
    "        loss = criterion(outputs.squeeze(), targets)\n",
    "        loss.backward()\n",
    "        optimizer.step()\n",
    "        \n",
    "        total_loss += loss.item()\n",
    "    \n",
    "    print(f'Epoch {epoch + 1}, Loss: {total_loss / len(train_loader)}')\n"
   ]
  },
  {
   "cell_type": "code",
   "execution_count": null,
   "id": "cc71cbf0",
   "metadata": {
    "papermill": {
     "duration": null,
     "end_time": null,
     "exception": null,
     "start_time": null,
     "status": "pending"
    },
    "tags": []
   },
   "outputs": [],
   "source": []
  },
  {
   "cell_type": "code",
   "execution_count": null,
   "id": "16b33fc9",
   "metadata": {
    "papermill": {
     "duration": null,
     "end_time": null,
     "exception": null,
     "start_time": null,
     "status": "pending"
    },
    "tags": []
   },
   "outputs": [],
   "source": []
  },
  {
   "cell_type": "markdown",
   "id": "a28b87ef",
   "metadata": {
    "papermill": {
     "duration": null,
     "end_time": null,
     "exception": null,
     "start_time": null,
     "status": "pending"
    },
    "tags": []
   },
   "source": [
    "# Finding the max length of tokenized text\n"
   ]
  },
  {
   "cell_type": "code",
   "execution_count": null,
   "id": "433397fe",
   "metadata": {
    "execution": {
     "iopub.execute_input": "2024-10-10T12:42:06.777448Z",
     "iopub.status.busy": "2024-10-10T12:42:06.777041Z",
     "iopub.status.idle": "2024-10-10T12:49:16.826396Z",
     "shell.execute_reply": "2024-10-10T12:49:16.825361Z",
     "shell.execute_reply.started": "2024-10-10T12:42:06.777411Z"
    },
    "papermill": {
     "duration": null,
     "end_time": null,
     "exception": null,
     "start_time": null,
     "status": "pending"
    },
    "tags": []
   },
   "outputs": [],
   "source": [
    "\n",
    "from transformers import DistilBertTokenizer\n",
    "\n",
    "# Initialize the tokenizer (you can replace 'distilbert-base-uncased' with any other tokenizer)\n",
    "tokenizer = DistilBertTokenizer.from_pretrained('distilbert-base-uncased')\n",
    "\n",
    "# Load your dataset (assuming it's a CSV with a 'content' column for text data)\n",
    "df = pd.read_csv('/kaggle/input/corpus2/pre_proc_train.csv')\n",
    "\n",
    "# Function to calculate token lengths\n",
    "def get_max_token_length(texts):\n",
    "    max_length = 0\n",
    "    all_lengths = []\n",
    "    \n",
    "    for text in texts:\n",
    "        encoding = tokenizer(text, truncation=False, return_tensors='pt')  # No truncation to get actual length\n",
    "        length = encoding['input_ids'].shape[1]  # Get the number of tokens\n",
    "        all_lengths.append(length)\n",
    "        \n",
    "        if length > max_length:\n",
    "            max_length = length\n",
    "            \n",
    "    return max_length, all_lengths\n",
    "\n",
    "# Apply function to your 'content' column\n",
    "max_length, all_lengths = get_max_token_length(df['formatted_text'].tolist())\n",
    "\n",
    "print(f\"Maximum number of tokens in the dataset: {max_length}\")\n"
   ]
  },
  {
   "cell_type": "code",
   "execution_count": null,
   "id": "576abe4c",
   "metadata": {
    "execution": {
     "iopub.execute_input": "2024-10-10T12:55:12.714127Z",
     "iopub.status.busy": "2024-10-10T12:55:12.713171Z",
     "iopub.status.idle": "2024-10-10T12:55:14.262090Z",
     "shell.execute_reply": "2024-10-10T12:55:14.261152Z",
     "shell.execute_reply.started": "2024-10-10T12:55:12.714078Z"
    },
    "papermill": {
     "duration": null,
     "end_time": null,
     "exception": null,
     "start_time": null,
     "status": "pending"
    },
    "tags": []
   },
   "outputs": [],
   "source": [
    "import matplotlib.pyplot as plt\n",
    "\n",
    "plt.hist(all_lengths, bins=50)\n",
    "plt.xlabel('Number of Tokens')\n",
    "plt.ylabel('Frequency')\n",
    "plt.title('Token Length Distribution')\n",
    "plt.show()"
   ]
  }
 ],
 "metadata": {
  "kaggle": {
   "accelerator": "nvidiaTeslaT4",
   "dataSources": [
    {
     "datasetId": 5846915,
     "sourceId": 9587404,
     "sourceType": "datasetVersion"
    }
   ],
   "dockerImageVersionId": 30787,
   "isGpuEnabled": true,
   "isInternetEnabled": true,
   "language": "python",
   "sourceType": "notebook"
  },
  "kernelspec": {
   "display_name": "Python 3",
   "language": "python",
   "name": "python3"
  },
  "language_info": {
   "codemirror_mode": {
    "name": "ipython",
    "version": 3
   },
   "file_extension": ".py",
   "mimetype": "text/x-python",
   "name": "python",
   "nbconvert_exporter": "python",
   "pygments_lexer": "ipython3",
   "version": "3.10.14"
  },
  "papermill": {
   "default_parameters": {},
   "duration": null,
   "end_time": null,
   "environment_variables": {},
   "exception": null,
   "input_path": "__notebook__.ipynb",
   "output_path": "__notebook__.ipynb",
   "parameters": {},
   "start_time": "2024-10-12T08:14:52.963257",
   "version": "2.6.0"
  }
 },
 "nbformat": 4,
 "nbformat_minor": 5
}